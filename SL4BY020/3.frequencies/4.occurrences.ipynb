{
 "cells": [
  {
   "cell_type": "markdown",
   "metadata": {
    "slideshow": {
     "slide_type": "slide"
    }
   },
   "source": [
    "# Compter des occurrences : l’exemple des mots d’un texte"
   ]
  },
  {
   "cell_type": "markdown",
   "metadata": {
    "slideshow": {
     "slide_type": "slide"
    }
   },
   "source": [
    "## De quoi il s’agit ?"
   ]
  },
  {
   "cell_type": "markdown",
   "metadata": {},
   "source": [
    "Compter des occurrences revient à subdiviser un objet en éléments et à compter le nombre de fois où chaque élément apparaît. Prenons une liste aléatoire de cent nombres entiers entre 0 et 20 et calculons combien de fois apparaît le nombre 9 :"
   ]
  },
  {
   "cell_type": "code",
   "execution_count": null,
   "metadata": {
    "slideshow": {
     "slide_type": "-"
    }
   },
   "outputs": [],
   "source": [
    "from random import randint\n",
    "\n",
    "l = [ randint(0, 20) for n in range(0, 100) ]\n",
    "\n",
    "print(f\"Le nombre 9 apparaît { l.count(9) } fois.\")"
   ]
  },
  {
   "cell_type": "markdown",
   "metadata": {
    "slideshow": {
     "slide_type": "subslide"
    }
   },
   "source": [
    "On peut réaliser une opération similaire en comptabilisant les apparitions de la lettre *e* dans une phrase :"
   ]
  },
  {
   "cell_type": "code",
   "execution_count": null,
   "metadata": {
    "slideshow": {
     "slide_type": "-"
    }
   },
   "outputs": [],
   "source": [
    "sent = \"En pratique, un pêcheur pêche avec une canne.\"\n",
    "\n",
    "print(f\"La lettre 'e' apparaît { sent.count('e') } fois.\")"
   ]
  },
  {
   "cell_type": "markdown",
   "metadata": {
    "slideshow": {
     "slide_type": "fragment"
    }
   },
   "source": [
    "Python dissocie par défaut le caractère *e* de ses versions accentuée *ê* et majuscule *E*. Plusieurs stratégies peuvent être mises en place pour y remédier :\n",
    "- remplacer les caractères ;\n",
    "- additionner les occurrences de chaque cas ;\n",
    "- normaliser la phrase.\n",
    "\n",
    "Prenons la dernière stratégie en faisant appel à la méthode `.normalize()` du module `unicodedata`, qui décompose une lettre en ses différents constituants :"
   ]
  },
  {
   "cell_type": "code",
   "execution_count": null,
   "metadata": {
    "slideshow": {
     "slide_type": "-"
    }
   },
   "outputs": [],
   "source": [
    "import unicodedata\n",
    "\n",
    "def normalize(s):\n",
    "    \"\"\"Returns the normalized version of a string.\n",
    "\n",
    "    s -- string to normalize\n",
    "    \"\"\"\n",
    "    normalized_string = str()\n",
    "    for c in s:\n",
    "        components = unicodedata.normalize('NFKD', c)\n",
    "        base = components[0]\n",
    "        normalized_string += base.lower()\n",
    "\n",
    "    return normalized_string\n",
    "\n",
    "print(normalize(sent))"
   ]
  },
  {
   "cell_type": "markdown",
   "metadata": {
    "slideshow": {
     "slide_type": "subslide"
    }
   },
   "source": [
    "Grâce à la fonction `map()`, on peut obtenir le même résultat plus rapidement :"
   ]
  },
  {
   "cell_type": "code",
   "execution_count": null,
   "metadata": {
    "slideshow": {
     "slide_type": "-"
    }
   },
   "outputs": [],
   "source": [
    "sent = map(lambda x: unicodedata.normalize('NFKD', x)[0], sent)\n",
    "sent = ''.join(sent)\n",
    "\n",
    "print(f\"La lettre 'e' apparaît { sent.count('e') } fois.\")"
   ]
  },
  {
   "cell_type": "markdown",
   "metadata": {
    "slideshow": {
     "slide_type": "fragment"
    }
   },
   "source": [
    "Et pour basculer en bas de casse :"
   ]
  },
  {
   "cell_type": "code",
   "execution_count": null,
   "metadata": {
    "slideshow": {
     "slide_type": "-"
    }
   },
   "outputs": [],
   "source": [
    "sent = sent.lower()\n",
    "\n",
    "print(f\"La lettre 'e' apparaît { sent.count('e') } fois.\")"
   ]
  },
  {
   "cell_type": "markdown",
   "metadata": {
    "slideshow": {
     "slide_type": "slide"
    }
   },
   "source": [
    "## Préparer les données"
   ]
  },
  {
   "cell_type": "markdown",
   "metadata": {},
   "source": [
    "La question de compter des occurrences de mots n’est donc pas si anodine qu’elle peut paraître. La qualité du résultat dépend grandement de la définition de l’objectif que l’on se fixe. Parfois, en effet, nous voudrons intégrer la ponctuation, d’autres fois ne compter que des formes verbales, ou supprimer les mots non signifiants etc.\n",
    "\n",
    "Prenons un énoncé :\n",
    "\n",
    "> Le petit chat boit de l’eau. Le petit chien boit du lait.\n",
    "\n",
    "Nous aimerions au final obtenir une liste de tuples de mots triée par leur fréquence d’apparition, puis par ordre alphabétique :\n",
    "```python\n",
    "[('boit', 2), ('le', 2), ('petit', 2), ('chat', 1)…]\n",
    "```\n",
    "\n",
    "**1e étape :** effectuer une tokenisation avec *spaCy*."
   ]
  },
  {
   "cell_type": "code",
   "execution_count": null,
   "metadata": {
    "tags": []
   },
   "outputs": [],
   "source": [
    "import spacy\n",
    "\n",
    "nlp = spacy.blank('fr')\n",
    "doc = nlp('Le petit chat boit de l’eau. Le petit chien boit du lait.')\n",
    "tokens = list(filter(lambda t: not t.is_punct, doc))"
   ]
  },
  {
   "cell_type": "markdown",
   "metadata": {
    "slideshow": {
     "slide_type": "subslide"
    }
   },
   "source": [
    "**2e étape :** basculer les tokens en bas de casse."
   ]
  },
  {
   "cell_type": "code",
   "execution_count": null,
   "metadata": {
    "slideshow": {
     "slide_type": "-"
    },
    "tags": []
   },
   "outputs": [],
   "source": [
    "tokens = list(\n",
    "    map(\n",
    "        lambda t:t.text.lower(),\n",
    "        tokens\n",
    "    )\n",
    ")"
   ]
  },
  {
   "cell_type": "markdown",
   "metadata": {
    "slideshow": {
     "slide_type": "subslide"
    }
   },
   "source": [
    "**3e étape :** regrouper les tokens par fréquence d’apparition."
   ]
  },
  {
   "cell_type": "code",
   "execution_count": null,
   "metadata": {
    "slideshow": {
     "slide_type": "-"
    }
   },
   "outputs": [],
   "source": [
    "def get_occurrences(tokens):\n",
    "    \"\"\"Builds up a dictionary of words and the count of their\n",
    "    occurrences.\n",
    "\n",
    "    tokens -- list of tokens\n",
    "    \"\"\"\n",
    "\n",
    "    occurrences = {}\n",
    "    for token in tokens:\n",
    "        occurrences.update({\n",
    "            token: occurrences.get(token, 0) + 1\n",
    "        })\n",
    "    return occurrences\n",
    "\n",
    "occurrences = get_occurrences(tokens)"
   ]
  },
  {
   "cell_type": "markdown",
   "metadata": {
    "slideshow": {
     "slide_type": "subslide"
    }
   },
   "source": [
    "**4e étape :** trier le dictionnaire par ordre alphabétique."
   ]
  },
  {
   "cell_type": "code",
   "execution_count": null,
   "metadata": {
    "slideshow": {
     "slide_type": "-"
    }
   },
   "outputs": [],
   "source": [
    "occurrences = sorted(\n",
    "    occurrences.items(),\n",
    "    key=lambda x:x[0]\n",
    ")"
   ]
  },
  {
   "cell_type": "markdown",
   "metadata": {
    "slideshow": {
     "slide_type": "fragment"
    }
   },
   "source": [
    "**5e étape :** trier la liste de tuples par ordre décroissant de fréquence d’apparition."
   ]
  },
  {
   "cell_type": "code",
   "execution_count": null,
   "metadata": {
    "slideshow": {
     "slide_type": "-"
    }
   },
   "outputs": [],
   "source": [
    "occurrences = sorted(\n",
    "    occurrences,\n",
    "    key=lambda x:x[1],\n",
    "    reverse=True\n",
    ")"
   ]
  },
  {
   "cell_type": "markdown",
   "metadata": {
    "slideshow": {
     "slide_type": "slide"
    }
   },
   "source": [
    "## Améliorer le calcul des occurrences"
   ]
  },
  {
   "cell_type": "markdown",
   "metadata": {},
   "source": [
    "### `defaultdict`"
   ]
  },
  {
   "cell_type": "markdown",
   "metadata": {},
   "source": [
    "La structure de données `defaultdict` nous permet d’améliorer la constitution du dictionnaire des occurrences :"
   ]
  },
  {
   "cell_type": "code",
   "execution_count": null,
   "metadata": {
    "slideshow": {
     "slide_type": "-"
    }
   },
   "outputs": [],
   "source": [
    "from collections import defaultdict\n",
    "\n",
    "occurrences = defaultdict(int)\n",
    "\n",
    "for token in tokens:\n",
    "    occurrences[token] = occurrences[token] + 1\n",
    "\n",
    "# sorting\n",
    "occurrences = sorted(occurrences.items(), key=lambda x:x[0])\n",
    "occurrences = sorted(occurrences, key=lambda x:x[1], reverse=True)"
   ]
  },
  {
   "cell_type": "markdown",
   "metadata": {
    "slideshow": {
     "slide_type": "subslide"
    }
   },
   "source": [
    "### `Counter`"
   ]
  },
  {
   "cell_type": "markdown",
   "metadata": {},
   "source": [
    "Il existe toutefois un autre objet du module `collections` qui est encore plus facilement manipulable pour ce genre d’opérations : `Counter`"
   ]
  },
  {
   "cell_type": "code",
   "execution_count": null,
   "metadata": {
    "slideshow": {
     "slide_type": "-"
    }
   },
   "outputs": [],
   "source": [
    "from collections import Counter\n",
    "\n",
    "occurrences = Counter(tokens)"
   ]
  },
  {
   "cell_type": "markdown",
   "metadata": {
    "slideshow": {
     "slide_type": "fragment"
    }
   },
   "source": [
    "Il a l’avantage d’embarquer une méthode pour afficher la liste des items les plus fréquents :"
   ]
  },
  {
   "cell_type": "code",
   "execution_count": null,
   "metadata": {
    "slideshow": {
     "slide_type": "-"
    }
   },
   "outputs": [],
   "source": [
    "occurrences.most_common(5)"
   ]
  }
 ],
 "metadata": {
  "celltoolbar": "Diaporama",
  "kernelspec": {
   "display_name": "Python 3 (ipykernel)",
   "language": "python",
   "name": "python3"
  },
  "language_info": {
   "codemirror_mode": {
    "name": "ipython",
    "version": 3
   },
   "file_extension": ".py",
   "mimetype": "text/x-python",
   "name": "python",
   "nbconvert_exporter": "python",
   "pygments_lexer": "ipython3",
   "version": "3.11.8"
  }
 },
 "nbformat": 4,
 "nbformat_minor": 4
}
